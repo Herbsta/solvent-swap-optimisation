{
 "cells": [
  {
   "cell_type": "code",
   "execution_count": null,
   "metadata": {},
   "outputs": [],
   "source": [
    "from generator import JAVHModel, JAModel\n",
    "import matplotlib.pyplot as plt\n",
    "import pandas as pd\n",
    "import numpy as np\n",
    "import seaborn as sns\n",
    "\n",
    "# Set up initial configurations for plots\n",
    "plt.rcParams.update({\n",
    "    'font.size': 12,          # Default font size\n",
    "    'axes.labelsize': 14,     # Axis labels\n",
    "    'axes.titlesize': 16,     # Subplot titles\n",
    "    'xtick.labelsize': 12,    # X-axis tick labels\n",
    "    'ytick.labelsize': 12,    # Y-axis tick labels\n",
    "    'legend.fontsize': 12,    # Legend text\n",
    "    'figure.titlesize': 18    # Figure title\n",
    "})\n",
    "\n"
   ]
  },
  {
   "cell_type": "code",
   "execution_count": null,
   "metadata": {},
   "outputs": [],
   "source": [
    "palette = sns.color_palette('colorblind', 10)\n",
    "palette"
   ]
  },
  {
   "cell_type": "code",
   "execution_count": null,
   "metadata": {},
   "outputs": [],
   "source": [
    "from generator import javh_groups"
   ]
  },
  {
   "cell_type": "code",
   "execution_count": null,
   "metadata": {},
   "outputs": [],
   "source": [
    "modelsJAVH = JAVHModel.load_from_csvs('../../output')\n",
    "modelsJA = JAModel.load_from_csvs('../../output')"
   ]
  },
  {
   "cell_type": "code",
   "execution_count": null,
   "metadata": {},
   "outputs": [],
   "source": [
    "modelsJA[-1].plot(6,solvent_1_name='Ethane-1,2-diol — Water Weight Fraction',api='3-chloropyrazin-2-amine Exp. Data',color=palette[0])\n",
    "\n",
    "# 3-chloropyrazin-2-amine 276224\n",
    "# 283.15K\n"
   ]
  },
  {
   "cell_type": "code",
   "execution_count": null,
   "metadata": {},
   "outputs": [],
   "source": [
    "modelsJA[-1].plot(2,solvent_1_name='Ethane-1,2-diol — Water Weight Fraction',api='Iminodibenzyl Exp. Data',color=palette[0])\n",
    "\n",
    "# Iminodibenzyl  10308\n",
    "# ethane-1,2-diol\n",
    "# Water\n",
    "# Temperature 318.15k"
   ]
  },
  {
   "cell_type": "code",
   "execution_count": null,
   "metadata": {},
   "outputs": [],
   "source": [
    "modelsJA[-1].plot(6,solvent_1_name='Ethane-1,2-diol — Water Weight Fraction',api='Iminodibenzyl Exp. Data',color=palette[0])\n",
    "\n",
    "# 276224 Compound ID\n",
    "# 174\n",
    "# 962\n",
    "# 283.15k"
   ]
  },
  {
   "cell_type": "code",
   "execution_count": null,
   "metadata": {},
   "outputs": [],
   "source": [
    "import matplotlib.gridspec as gridspec\n",
    "\n",
    "# Create a figure with a specific layout\n",
    "fig = plt.figure(figsize=(16*1.3/1.5, 9*1.3/1.5))\n",
    "\n",
    "# Create grid specification for the layout\n",
    "gs = gridspec.GridSpec(2, 2, height_ratios=[1, 1], width_ratios=[1, 1])\n",
    "\n",
    "# Create the first subplot (takes up the whole top row)\n",
    "ax1 = fig.add_subplot(gs[0, 0])\n",
    "ax2 = fig.add_subplot(gs[0, 1])\n",
    "\n",
    "# Create the second and third subplots (bottom row)\n",
    "ax3 = fig.add_subplot(gs[1, 0])\n",
    "ax4 = fig.add_subplot(gs[1, 1])\n",
    "\n",
    "modelsJAVH[-1].plot(29,all_experimental_data=False,api_name='Artesunate Exp. Data', solvent_1_name='Propane-1,2-diol — Water Weight Fraction',color=palette[0],ax=ax1)\n",
    "modelsJAVH[-1].plot(2,all_experimental_data=False, api_name='Sofosbuvir Exp. Data', solvent_1_name='Acetone — Water Weight Fraction',color=palette[0],ax=ax2)\n",
    "modelsJA[-1].plot(6,solvent_1_name='Ethane-1,2-diol — Water Weight Fraction',api='Iminodibenzyl Exp. Data',color=palette[0],ax=ax3)\n",
    "modelsJA[-1].plot(6,solvent_1_name='Ethane-1,2-diol — Water Weight Fraction',api='3-chloropyrazin-2-amine Exp. Data',color=palette[0],ax=ax4)\n",
    "\n",
    "# Adjust y-axis scaling for each subplot\n",
    "for ax in [ax1, ax3, ax4]:\n",
    "    # Scale values by 1000\n",
    "    formatter = plt.FuncFormatter(lambda x, pos: '{:.1f}'.format(x*1000))\n",
    "    ax.yaxis.set_major_formatter(formatter)\n",
    "    ax.set_ylabel(\"Solubility (mg/g)\")\n",
    "\n",
    "\n",
    "# Adjust layout\n",
    "plt.tight_layout()\n",
    "\n",
    "fig.show()"
   ]
  },
  {
   "cell_type": "code",
   "execution_count": null,
   "metadata": {},
   "outputs": [],
   "source": [
    "modelsJAVH[-1].plot(29,all_experimental_data=False,api_name='Artesunate Exp. Data', solvent_1_name='Propane-1,2-diol — Water Weight Fraction',color=palette[0])\n",
    "\n",
    "# Artesunate\n",
    "# propane-1,2-diol\n",
    "# Water\n",
    "# 298.15k\n"
   ]
  },
  {
   "cell_type": "code",
   "execution_count": null,
   "metadata": {},
   "outputs": [],
   "source": [
    "modelsJAVH[-1].plot(2,all_experimental_data=False, api_name='Sofosbuvir Exp. Data', solvent_1_name='Acetone — Water Weight Fraction',color=palette[0])\n",
    "\n",
    "# 45375808 Sofosbuvir \n",
    "# 180 acetone solvent 1\n",
    "# water sovlent 2\n",
    "# 298.15k\n"
   ]
  },
  {
   "cell_type": "markdown",
   "metadata": {},
   "source": [
    "# Jouyban Acree Model Statistics"
   ]
  },
  {
   "cell_type": "code",
   "execution_count": null,
   "metadata": {},
   "outputs": [],
   "source": [
    "# Create a DataFrame to store all paired t-test results\n",
    "comparison_results = []\n",
    "\n",
    "# Loop through consecutive pairs of models\n",
    "for i in range(len(modelsJA) - 1):\n",
    "    model1 = modelsJA[i]\n",
    "    model2 = modelsJA[i + 1]\n",
    "    \n",
    "    # Perform paired t-test\n",
    "    t_stat, p_value, diff = model2.paired_t_test(model1, verbose=False)\n",
    "    \n",
    "    # Store key information about the comparison\n",
    "    comparison_results.append({\n",
    "        'model1_points': model1.JA_number + 2,\n",
    "        'model2_points': model2.JA_number + 2,\n",
    "        'mape_improvement': diff.mean(),\n",
    "        't_statistic': abs(t_stat),\n",
    "        'p_value': p_value,\n",
    "        'significant': p_value < 0.025\n",
    "    })\n",
    "\n",
    "# Convert to DataFrame\n",
    "comparison_df = pd.DataFrame(comparison_results)\n",
    "\n",
    "# Create visualization using a bar chart\n",
    "plt.figure(figsize=(16*1.3/3, 9*1.3/3))\n",
    "\n",
    "# Create x labels for the comparison\n",
    "x_labels = [f\"{row['model1_points']}→{row['model2_points']}\" for _, row in comparison_df.iterrows()]\n",
    "\n",
    "# Create colors and hatches based on significance\n",
    "colors = [palette[0] if sig else palette[7] for sig in comparison_df['significant']]\n",
    "\n",
    "# Plot bars\n",
    "bars = plt.bar(x_labels, comparison_df['mape_improvement'], color=colors)\n",
    "\n",
    "\n",
    "# Add a horizontal line at y=0\n",
    "plt.axhline(y=0, color=palette[7], linestyle='--')\n",
    "\n",
    "print(comparison_df)\n",
    "\n",
    "# Create legend\n",
    "plt.legend([plt.Rectangle((0,0),1,1, color=palette[7]), \n",
    "            plt.Rectangle((0,0),1,1, color=palette[0])], \n",
    "           ['p > .025', 'p < .025'])\n",
    "\n",
    "plt.xlabel('Model Comparison (Data Points)')\n",
    "plt.ylabel('Δ MAPE (%)')\n",
    "plt.grid(True, alpha=0.3)\n",
    "plt.tight_layout()\n",
    "plt.show()\n"
   ]
  },
  {
   "cell_type": "code",
   "execution_count": null,
   "metadata": {},
   "outputs": [],
   "source": [
    "results = pd.DataFrame(columns=['data points', 'p_value', 'f1_score', 'precision', 'recall'])\n",
    "\n",
    "for i in range(len(modelsJA)-1):\n",
    "    print(f'{modelsJA[i]} \\ncompared to \\n{modelsJA[i+1]}')\n",
    "    modelsJA[i].plot(2)\n",
    "    modelsJA[i+1].plot(2)\n",
    "    \n",
    "    _, p_value,diff = modelsJA[i+1].paired_t_test(modelsJA[i])\n",
    "    \n"
   ]
  },
  {
   "cell_type": "markdown",
   "metadata": {},
   "source": [
    "# Statistics for the Van't Hoff Jouyban Acree Model"
   ]
  },
  {
   "cell_type": "code",
   "execution_count": null,
   "metadata": {},
   "outputs": [],
   "source": [
    "num = 7"
   ]
  },
  {
   "cell_type": "code",
   "execution_count": null,
   "metadata": {},
   "outputs": [],
   "source": [
    "# Create a DataFrame to store all paired t-test results\n",
    "comparison_results = []\n",
    "\n",
    "fixed_modelsJAVH = [model for model in modelsJAVH if model.JA_number == num]\n",
    "\n",
    "# Loop through consecutive pairs of models\n",
    "for i in range(len(fixed_modelsJAVH) - 1):\n",
    "    model1 = fixed_modelsJAVH[i]\n",
    "    model2 = fixed_modelsJAVH[i + 1]\n",
    "    \n",
    "    # Perform paired t-test\n",
    "    t_stat, p_value, diff = model2.paired_t_test(model1, verbose=False)\n",
    "    \n",
    "    # Store key information about the comparison\n",
    "    comparison_results.append({\n",
    "        'model1_points': model1.VH_number* 2,  # Convert x to actual data points\n",
    "        'model2_points': model2.VH_number* 2,\n",
    "        'mape_improvement': diff.median(),\n",
    "        't_statistic': abs(t_stat),\n",
    "        'p_value': p_value,\n",
    "        'significant': p_value < 0.025\n",
    "    })\n",
    "\n",
    "# Convert to DataFrame\n",
    "comparison_df = pd.DataFrame(comparison_results)\n",
    "\n",
    "# Create visualization using a bar chart\n",
    "plt.figure(figsize=(16*1.3/3, 9*1.3/3))\n",
    "\n",
    "# Create x labels for the comparison\n",
    "x_labels = [f\"{row['model1_points']}→{row['model2_points']}\" for _, row in comparison_df.iterrows()]\n",
    "\n",
    "# Create colors and hatches based on significance\n",
    "colors = ['#ff000080' if sig else 'lightgray' for sig in comparison_df['significant']]\n",
    "hatches = ['//' if sig else '' for sig in comparison_df['significant']]\n",
    "\n",
    "# Plot bars\n",
    "bars = plt.bar(x_labels, comparison_df['mape_improvement'], color=colors, hatch=hatches, edgecolor=colors)\n",
    "\n",
    "\n",
    "# Add a horizontal line at y=0\n",
    "plt.axhline(y=0, color='gray', linestyle='--')\n",
    "\n",
    "print(comparison_df)\n",
    "\n",
    "# Create legend\n",
    "plt.legend([plt.Rectangle((0,0),1,1, color='lightgray'), \n",
    "            plt.Rectangle((0,0),1,1, color='#ff000080', hatch='//')], \n",
    "           ['p > .025', 'p < .025'])\n",
    "\n",
    "plt.xlabel('Model Comparison (Data Points)')\n",
    "plt.ylabel('Δ MAPE (%)')\n",
    "plt.grid(True, alpha=0.3)\n",
    "plt.tight_layout()\n",
    "plt.show()"
   ]
  }
 ],
 "metadata": {
  "kernelspec": {
   "display_name": "venv",
   "language": "python",
   "name": "python3"
  },
  "language_info": {
   "codemirror_mode": {
    "name": "ipython",
    "version": 3
   },
   "file_extension": ".py",
   "mimetype": "text/x-python",
   "name": "python",
   "nbconvert_exporter": "python",
   "pygments_lexer": "ipython3",
   "version": "3.11.0"
  }
 },
 "nbformat": 4,
 "nbformat_minor": 2
}
