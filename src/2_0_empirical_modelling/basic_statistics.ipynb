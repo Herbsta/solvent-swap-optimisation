{
 "cells": [
  {
   "cell_type": "code",
   "execution_count": null,
   "metadata": {},
   "outputs": [],
   "source": [
    "from generator import javh_groups, ja_groups\n",
    "import matplotlib.pyplot as plt\n",
    "import pandas as pd"
   ]
  },
  {
   "cell_type": "code",
   "execution_count": null,
   "metadata": {},
   "outputs": [],
   "source": [
    "row_counts = [len(group) for group in ja_groups]\n",
    "pd.DataFrame(row_counts).describe()"
   ]
  },
  {
   "cell_type": "code",
   "execution_count": null,
   "metadata": {},
   "outputs": [],
   "source": [
    "unique_temperatures_per_group = [len(set(group['temperature'].tolist())) for group in javh_groups]\n",
    "pd.DataFrame(unique_temperatures_per_group).describe()"
   ]
  },
  {
   "cell_type": "code",
   "execution_count": null,
   "metadata": {},
   "outputs": [],
   "source": [
    "import sqlite3\n",
    "import pandas as pd\n",
    "\n",
    "# Connect to the database\n",
    "conn = sqlite3.connect('../../db/MasterDatabase.db')\n",
    "\n",
    "# Query to get unique references from solubility table\n",
    "query = \"SELECT * FROM solubility\"\n",
    "\n",
    "# Execute query and fetch results\n",
    "alldata = pd.read_sql_query(query, conn)\n",
    "\n",
    "query = \"SELECT * FROM selected_solubility_data\"\n",
    "\n",
    "selecteddata = pd.read_sql_query(query, conn)\n",
    "\n"
   ]
  },
  {
   "cell_type": "code",
   "execution_count": null,
   "metadata": {},
   "outputs": [],
   "source": [
    "# Query to count rows where solvent_2 is NULL\n",
    "query = \"SELECT COUNT(*) FROM solubility WHERE solvent_2 IS NULL\"\n",
    "\n",
    "# Execute query and fetch results\n",
    "null_solvent2_count = pd.read_sql_query(query, conn)\n",
    "\n",
    "# Display the count\n",
    "print(f\"Number of rows where solvent_2 is NULL: {null_solvent2_count.iloc[0, 0]}\")\n"
   ]
  },
  {
   "cell_type": "code",
   "execution_count": null,
   "metadata": {},
   "outputs": [],
   "source": [
    "query = \"SELECT molecular_weight as compound_mw, id FROM compounds\"\n",
    "\n",
    "mw_c = pd.read_sql_query(query, conn)\n",
    "\n",
    "query = \"SELECT molecular_weight as solvent_mw, id FROM solvents\"\n",
    "\n",
    "mw_s = pd.read_sql_query(query, conn)"
   ]
  },
  {
   "cell_type": "code",
   "execution_count": null,
   "metadata": {},
   "outputs": [],
   "source": [
    "mw_c.describe()"
   ]
  },
  {
   "cell_type": "code",
   "execution_count": null,
   "metadata": {},
   "outputs": [],
   "source": [
    "# Close connection\n",
    "conn.close()"
   ]
  },
  {
   "cell_type": "code",
   "execution_count": null,
   "metadata": {},
   "outputs": [],
   "source": [
    "df = pd.concat(javh_groups, axis=0, ignore_index=True)"
   ]
  },
  {
   "cell_type": "code",
   "execution_count": null,
   "metadata": {},
   "outputs": [],
   "source": [
    "plt.rcParams.update({\n",
    "    'font.size': 12,          # Default font size\n",
    "    'axes.labelsize': 14,     # Axis labels\n",
    "    'axes.titlesize': 16,     # Subplot titles\n",
    "    'xtick.labelsize': 12,    # X-axis tick labels\n",
    "    'ytick.labelsize': 12,    # Y-axis tick labels\n",
    "    'legend.fontsize': 12,    # Legend text\n",
    "    'figure.titlesize': 18    # Figure title\n",
    "})"
   ]
  },
  {
   "cell_type": "code",
   "execution_count": null,
   "metadata": {},
   "outputs": [],
   "source": [
    "import seaborn as sns\n",
    "import numpy as np\n",
    "\n",
    "# Create a figure with 2 subplots\n",
    "fig = plt.figure(figsize=(16*1.3/3, 9*2.3/3))\n",
    "\n",
    "# First subplot for log solubility (top-left)\n",
    "plt.subplot(2, 2, 1)\n",
    "df['log_solubility'] = np.log(df['solubility_g_g'])\n",
    "sns.violinplot(y='log_solubility', data=df, inner='quartile', density_norm='width', color='lightgray')\n",
    "# plt.title('Distribution of Log Solubility')\n",
    "plt.ylabel('Log Solubility (ln g/g)')\n",
    "\n",
    "# Second subplot for temperature (top-right)\n",
    "plt.subplot(2, 2, 2)\n",
    "sns.violinplot(y='temperature', data=df, inner='quartile', density_norm='width', color='lightgray')\n",
    "# plt.title('Distribution of Temperature')\n",
    "plt.ylabel('Temperature (K)')\n",
    "\n",
    "# Third subplot (bottom-left)\n",
    "plt.subplot(2, 2, 3)\n",
    "# Placeholder for third subplot\n",
    "sns.violinplot(y='compound_mw', data=mw_c, inner='quartile', density_norm='width', color='lightgray')\n",
    "# plt.title('Distribution of Temperature')\n",
    "plt.ylabel('Compound MW (g/mol)')\n",
    "\n",
    "# Fourth subplot (bottom-right)\n",
    "plt.subplot(2, 2, 4)\n",
    "# Placeholder for fourth subplot\n",
    "sns.violinplot(y='solvent_mw', data=mw_s, inner='quartile', density_norm='width', color='lightgray')\n",
    "# plt.title('Distribution of Temperature')\n",
    "plt.ylabel('Solvent MW (g/mol)')\n",
    "\n",
    "plt.tight_layout()\n",
    "plt.show()\n"
   ]
  },
  {
   "cell_type": "code",
   "execution_count": null,
   "metadata": {
    "vscode": {
     "languageId": "javascript"
    }
   },
   "outputs": [],
   "source": [
    "pd.concat(ja_groups, axis=0, ignore_index=True)"
   ]
  }
 ],
 "metadata": {
  "kernelspec": {
   "display_name": "venv",
   "language": "python",
   "name": "python3"
  },
  "language_info": {
   "codemirror_mode": {
    "name": "ipython",
    "version": 3
   },
   "file_extension": ".py",
   "mimetype": "text/x-python",
   "name": "python",
   "nbconvert_exporter": "python",
   "pygments_lexer": "ipython3",
   "version": "3.11.0"
  }
 },
 "nbformat": 4,
 "nbformat_minor": 2
}
